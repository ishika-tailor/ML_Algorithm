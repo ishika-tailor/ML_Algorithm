{
 "cells": [
  {
   "cell_type": "markdown",
   "metadata": {},
   "source": [
    "# `180280116118` Ishika Tailor"
   ]
  },
  {
   "cell_type": "markdown",
   "metadata": {},
   "source": [
    "# **AIM: Exploring Numpy library to perform various tasks for array handling, wrangling, cleaning,description,arrangement.**"
   ]
  },
  {
   "cell_type": "code",
   "execution_count": 1,
   "metadata": {},
   "outputs": [],
   "source": [
    "import numpy as np\n",
    "import pandas as pd"
   ]
  },
  {
   "cell_type": "code",
   "execution_count": 2,
   "metadata": {},
   "outputs": [
    {
     "name": "stdout",
     "output_type": "stream",
     "text": [
      "1D array with 15 elements:\n",
      " [ 1  2  3  4  5  6  7  8  9 10 11 12 13 14 15]\n",
      "2D array:6*6\n",
      " [[1 2 3 4 5 6]\n",
      " [1 2 3 4 5 6]\n",
      " [1 2 3 4 5 6]\n",
      " [1 2 3 4 5 6]\n",
      " [1 2 3 4 5 6]\n",
      " [1 2 3 4 5 6]]\n"
     ]
    }
   ],
   "source": [
    "print('1D array with 15 elements:\\n', np.array([1, 2, 3,4,5,6,7,8,9,10,11,12,13,14,15]))\n",
    "print('2D array:6*6\\n', np.array([[1, 2, 3,4, 5, 6],[1, 2, 3,4, 5, 6],[1, 2, 3,4, 5, 6],[1, 2, 3,4, 5, 6],[1, 2, 3,4, 5, 6],[1, 2, 3,4, 5, 6]]))"
   ]
  },
  {
   "cell_type": "code",
   "execution_count": 3,
   "metadata": {},
   "outputs": [
    {
     "data": {
      "text/plain": [
       "dtype('int64')"
      ]
     },
     "execution_count": 3,
     "metadata": {},
     "output_type": "execute_result"
    }
   ],
   "source": [
    "a=np.array([1, 2, 3,4,5,6,7,8,9,10,11,12,13,14,15])\n",
    "b=np.array([[1, 2, 3,4, 5, 6],\n",
    "            [1, 2, 3,4, 5, 6],\n",
    "            [1, 2, 3,4, 5, 6],\n",
    "            [1, 2, 3,4, 5, 6],\n",
    "            [1, 2, 3,4, 5, 6],\n",
    "            [1, 2, 3,4, 5, 6]])\n",
    "a.dtype"
   ]
  },
  {
   "cell_type": "code",
   "execution_count": 4,
   "metadata": {},
   "outputs": [
    {
     "data": {
      "text/plain": [
       "dtype('int64')"
      ]
     },
     "execution_count": 4,
     "metadata": {},
     "output_type": "execute_result"
    }
   ],
   "source": [
    "b.dtype"
   ]
  },
  {
   "cell_type": "markdown",
   "metadata": {},
   "source": [
    "**[1] Create a 6x6 integer array and Prints its attributes.\n",
    "The element must be a type of unsigned int16.\n",
    "And print the following Attributes: – The shape of an array. Array dimensions. The Length of each element of the array in bytes.**"
   ]
  },
  {
   "cell_type": "code",
   "execution_count": 5,
   "metadata": {},
   "outputs": [],
   "source": [
    "Array = np.empty([6,6], dtype = np.uint16) "
   ]
  },
  {
   "cell_type": "code",
   "execution_count": 6,
   "metadata": {},
   "outputs": [
    {
     "name": "stdout",
     "output_type": "stream",
     "text": [
      "Printing numpy array Attributes\n",
      "1) Array Shape is:  (6, 6)\n",
      "2) Array dimensions are  2\n",
      "3) Length of each element of array in bytes is  2\n"
     ]
    }
   ],
   "source": [
    "print(\"Printing numpy array Attributes\")\n",
    "print(\"1) Array Shape is: \", Array.shape)\n",
    "print(\"2) Array dimensions are \", Array.ndim)\n",
    "print(\"3) Length of each element of array in bytes is \", Array.itemsize)"
   ]
  },
  {
   "cell_type": "code",
   "execution_count": 7,
   "metadata": {},
   "outputs": [
    {
     "name": "stdout",
     "output_type": "stream",
     "text": [
      "1 2\n"
     ]
    }
   ],
   "source": [
    "#Dimention of array\n",
    "print(a.ndim,b.ndim)"
   ]
  },
  {
   "cell_type": "code",
   "execution_count": 8,
   "metadata": {},
   "outputs": [
    {
     "name": "stdout",
     "output_type": "stream",
     "text": [
      "(15,) (6, 6)\n"
     ]
    }
   ],
   "source": [
    "#Shape of array\n",
    "print(a.shape,b.shape)"
   ]
  },
  {
   "cell_type": "code",
   "execution_count": 9,
   "metadata": {},
   "outputs": [
    {
     "name": "stdout",
     "output_type": "stream",
     "text": [
      "120 288\n"
     ]
    }
   ],
   "source": [
    "#Total bytes consumed by the elements of the array\n",
    "print(a.nbytes,b.nbytes)"
   ]
  },
  {
   "cell_type": "code",
   "execution_count": 10,
   "metadata": {},
   "outputs": [
    {
     "name": "stdout",
     "output_type": "stream",
     "text": [
      "8 8\n"
     ]
    }
   ],
   "source": [
    "#length of one array element in bytes\n",
    "print(a.itemsize,b.itemsize)"
   ]
  },
  {
   "cell_type": "markdown",
   "metadata": {},
   "source": [
    "**[2]Create a null vector of size 10**"
   ]
  },
  {
   "cell_type": "code",
   "execution_count": 11,
   "metadata": {},
   "outputs": [
    {
     "name": "stdout",
     "output_type": "stream",
     "text": [
      "[0. 0. 0. 0. 0. 0. 0. 0. 0. 0.]\n"
     ]
    }
   ],
   "source": [
    "#Creating Null array of size 10\n",
    "c=np.zeros(shape=(10,))\n",
    "print(np.zeros(shape=(10,)))"
   ]
  },
  {
   "cell_type": "code",
   "execution_count": 12,
   "metadata": {},
   "outputs": [
    {
     "data": {
      "text/plain": [
       "10"
      ]
     },
     "execution_count": 12,
     "metadata": {},
     "output_type": "execute_result"
    }
   ],
   "source": [
    "c.size"
   ]
  },
  {
   "cell_type": "markdown",
   "metadata": {},
   "source": [
    "**[3]Create a vector with values ranging from 10 to 49**"
   ]
  },
  {
   "cell_type": "code",
   "execution_count": 13,
   "metadata": {},
   "outputs": [
    {
     "name": "stdout",
     "output_type": "stream",
     "text": [
      "Original vector: [10 11 12 13 14 15 16 17 18 19 20 21 22 23 24 25 26 27 28 29 30 31 32 33\n",
      " 34 35 36 37 38 39 40 41 42 43 44 45 46 47 48]\n",
      "All value except first and last: [11 12 13 14 15 16 17 18 19 20 21 22 23 24 25 26 27 28 29 30 31 32 33 34\n",
      " 35 36 37 38 39 40 41 42 43 44 45 46 47]\n"
     ]
    }
   ],
   "source": [
    "d=np.arange(10,49)\n",
    "print(\"Original vector:\",d)\n",
    "print(\"All value except first and last:\",d[1:-1])"
   ]
  },
  {
   "cell_type": "markdown",
   "metadata": {},
   "source": [
    "**[4]Reverse a vector (first element becomes last)**"
   ]
  },
  {
   "cell_type": "code",
   "execution_count": 14,
   "metadata": {},
   "outputs": [
    {
     "name": "stdout",
     "output_type": "stream",
     "text": [
      "Reverse vector: [48 47 46 45 44 43 42 41 40 39 38 37 36 35 34 33 32 31 30 29 28 27 26 25\n",
      " 24 23 22 21 20 19 18 17 16 15 14 13 12 11 10]\n"
     ]
    }
   ],
   "source": [
    "print(\"Reverse vector:\",d[::-1])"
   ]
  },
  {
   "cell_type": "markdown",
   "metadata": {},
   "source": [
    "**[5]Find indices of non-zero elements from [1,2,0,0,4,0]**"
   ]
  },
  {
   "cell_type": "code",
   "execution_count": 15,
   "metadata": {},
   "outputs": [
    {
     "name": "stdout",
     "output_type": "stream",
     "text": [
      "(array([0, 1, 4]),)\n"
     ]
    }
   ],
   "source": [
    "#Find indices of non-zero element[1,2,0,0,4,0]\n",
    "print(np.nonzero([1,2,0,0,4,0]))"
   ]
  },
  {
   "cell_type": "markdown",
   "metadata": {},
   "source": [
    "`0,1,4 are indices of non-zero array`"
   ]
  },
  {
   "cell_type": "markdown",
   "metadata": {},
   "source": [
    "**[6]Create a 6X6 integer array from a range between 100 to 200 such that the difference between each element is 10**"
   ]
  },
  {
   "cell_type": "code",
   "execution_count": 16,
   "metadata": {},
   "outputs": [
    {
     "name": "stdout",
     "output_type": "stream",
     "text": [
      "Creating 6X6 array using numpy.arange but element is less for creating 6X6 array.  \n",
      "So, i have created 5X2 array\n",
      "[[100 110]\n",
      " [120 130]\n",
      " [140 150]\n",
      " [160 170]\n",
      " [180 190]]\n"
     ]
    }
   ],
   "source": [
    "print(\"Creating 6X6 array using numpy.arange but element is less for creating 6X6 array.  \")\n",
    "print(\"So, i have created 5X2 array\")\n",
    "g = np.arange(100, 200, 10)\n",
    "g = g.reshape(5,2)\n",
    "print (g)"
   ]
  },
  {
   "cell_type": "markdown",
   "metadata": {},
   "source": [
    "**[7]Given 6x6 numPy array. return array of items in the third column from all rows**"
   ]
  },
  {
   "cell_type": "code",
   "execution_count": 17,
   "metadata": {},
   "outputs": [
    {
     "name": "stdout",
     "output_type": "stream",
     "text": [
      "Printing Input Array\n",
      "[[1 2 3 4 5 6]\n",
      " [1 2 3 4 5 6]\n",
      " [1 2 3 4 5 6]\n",
      " [1 2 3 4 5 6]\n",
      " [1 2 3 4 5 6]\n",
      " [1 2 3 4 5 6]]\n",
      "\n",
      " Printing array of items in the third column from all rows\n",
      "[3 3 3 3 3 3]\n"
     ]
    }
   ],
   "source": [
    "print(\"Printing Input Array\")\n",
    "print(b)\n",
    "\n",
    "print(\"\\n Printing array of items in the third column from all rows\")\n",
    "output = b[...,2]\n",
    "print(output)"
   ]
  },
  {
   "cell_type": "markdown",
   "metadata": {},
   "source": [
    "**[8]Given 6x6 numpy array return array of odd rows and even columns**"
   ]
  },
  {
   "cell_type": "code",
   "execution_count": 18,
   "metadata": {},
   "outputs": [
    {
     "name": "stdout",
     "output_type": "stream",
     "text": [
      "\n",
      " Printing array of odd rows and even columns\n",
      "[[2 4 6]\n",
      " [2 4 6]\n",
      " [2 4 6]]\n"
     ]
    }
   ],
   "source": [
    "h=np.array([[1, 2, 3,4, 5, 6],\n",
    "            [1, 2, 3,8, 5, 6],\n",
    "            [1, 2, 3,4, 5, 6],\n",
    "            [1, 2, 3,8, 5, 6],\n",
    "            [1, 2, 3,4, 5, 6],\n",
    "            [1, 2, 3,9, 5, 6]])\n",
    "print(\"\\n Printing array of odd rows and even columns\")\n",
    "OddEven = h[::2, 1::2]\n",
    "print(OddEven)"
   ]
  },
  {
   "cell_type": "markdown",
   "metadata": {},
   "source": [
    "**[9]Add the following two NumPy arrays and Modify a result array by calculating the square of each element**"
   ]
  },
  {
   "cell_type": "code",
   "execution_count": 19,
   "metadata": {},
   "outputs": [
    {
     "name": "stdout",
     "output_type": "stream",
     "text": [
      "addition of two arrays is \n",
      "\n",
      "[[10  9 11]\n",
      " [ 6 15  8]]\n",
      "\n",
      "Result array after calculating the square root of all elements\n",
      "\n",
      "[[100  81 121]\n",
      " [ 36 225  64]]\n"
     ]
    }
   ],
   "source": [
    "arr1 = np.array([[5, 6, 9], [2 ,8, 7]])\n",
    "arr2 = np.array([[5 ,3, 2], [4 ,7, 1]])\n",
    "\n",
    "result  = arr1 + arr2\n",
    "print(\"addition of two arrays is \\n\")\n",
    "print(result)\n",
    "\n",
    "for num in np.nditer(result, op_flags = ['readwrite']):\n",
    "   num[...] = num*num\n",
    "print(\"\\nResult array after calculating the square root of all elements\\n\")\n",
    "print(result)"
   ]
  },
  {
   "cell_type": "markdown",
   "metadata": {},
   "source": [
    "**[10]Split the array into four equal-sized sub-arrays**"
   ]
  },
  {
   "cell_type": "code",
   "execution_count": 20,
   "metadata": {},
   "outputs": [
    {
     "name": "stdout",
     "output_type": "stream",
     "text": [
      "[[ 1  2  3]\n",
      " [ 4  5  6]\n",
      " [ 7  8  9]\n",
      " [10 11 12]\n",
      " [13 14 15]\n",
      " [16 17 18]\n",
      " [19 20 21]\n",
      " [22 23 24]]\n",
      "\n",
      "Dividing 8X3 array into 4 sub array\n",
      "\n",
      "[array([[1, 2, 3],\n",
      "       [4, 5, 6]]), array([[ 7,  8,  9],\n",
      "       [10, 11, 12]]), array([[13, 14, 15],\n",
      "       [16, 17, 18]]), array([[19, 20, 21],\n",
      "       [22, 23, 24]])]\n"
     ]
    }
   ],
   "source": [
    "array = np.arange(1, 25, 1)\n",
    "i = array.reshape(8,3)\n",
    "print (i)\n",
    "\n",
    "print(\"\\nDividing 8X3 array into 4 sub array\\n\")\n",
    "subarray = np.split(i, 4) \n",
    "print(subarray)"
   ]
  },
  {
   "cell_type": "markdown",
   "metadata": {},
   "source": [
    "**[11] Sort following NumPy array**"
   ]
  },
  {
   "cell_type": "code",
   "execution_count": 21,
   "metadata": {},
   "outputs": [
    {
     "name": "stdout",
     "output_type": "stream",
     "text": [
      "Printing Original array\n",
      "[[34 43 73]\n",
      " [82 22 12]\n",
      " [53 94 66]]\n",
      "Sorting Original array by first row\n",
      "[[34 43 73]\n",
      " [82 22 12]\n",
      " [53 94 66]]\n",
      "Sorting Original array by secoond row\n",
      "[[73 43 34]\n",
      " [12 22 82]\n",
      " [66 94 53]]\n",
      "Sorting Original array by first column\n",
      "[[34 43 73]\n",
      " [53 94 66]\n",
      " [82 22 12]]\n",
      "Sorting Original array by secoond column\n",
      "[[82 22 12]\n",
      " [34 43 73]\n",
      " [53 94 66]]\n"
     ]
    }
   ],
   "source": [
    "print(\"Printing Original array\")\n",
    "j = np.array([[34,43,73],[82,22,12],[53,94,66]]) \n",
    "print (j)\n",
    "\n",
    "sortArrayByRow = j[:,j[0,:].argsort()]\n",
    "print(\"Sorting Original array by first row\")\n",
    "print(sortArrayByRow)\n",
    "\n",
    "sortArrayByRow = j[:,j[1,:].argsort()]\n",
    "print(\"Sorting Original array by secoond row\")\n",
    "print(sortArrayByRow)\n",
    "\n",
    "print(\"Sorting Original array by first column\")\n",
    "sortArrayByColumn = j[j[:,0].argsort()]\n",
    "print(sortArrayByColumn)\n",
    "\n",
    "print(\"Sorting Original array by secoond column\")\n",
    "sortArrayByColumn = j[j[:,1].argsort()]\n",
    "print(sortArrayByColumn)"
   ]
  },
  {
   "cell_type": "markdown",
   "metadata": {},
   "source": [
    "**[12] Given 6x6 NumPy Array, Print max from axis 0 and min from axis 1**"
   ]
  },
  {
   "cell_type": "code",
   "execution_count": 22,
   "metadata": {},
   "outputs": [
    {
     "name": "stdout",
     "output_type": "stream",
     "text": [
      "Printing amin Of Axis 1\n",
      "[34 12 53]\n",
      "Printing amax Of Axis 0\n",
      "[82 94 73]\n"
     ]
    }
   ],
   "source": [
    "minOfAxisOne = np.amin(j, 1) \n",
    "print(\"Printing amin Of Axis 1\")\n",
    "#Checking minimum element row by row\n",
    "print(minOfAxisOne)\n",
    "\n",
    "maxOfAxisOne = np.amax(j, 0) \n",
    "print(\"Printing amax Of Axis 0\")\n",
    "#checking maximum element column by column\n",
    "print(maxOfAxisOne)"
   ]
  },
  {
   "cell_type": "markdown",
   "metadata": {},
   "source": [
    "**[13] G Given 6x6 input NumPy array delete column two and insert following new column in its place.**"
   ]
  },
  {
   "cell_type": "code",
   "execution_count": 23,
   "metadata": {},
   "outputs": [
    {
     "name": "stdout",
     "output_type": "stream",
     "text": [
      "Array after deleting column 2 on axis 1\n",
      "[[ 1  3]\n",
      " [ 4  6]\n",
      " [ 7  9]\n",
      " [10 12]\n",
      " [13 15]\n",
      " [16 18]\n",
      " [19 21]\n",
      " [22 24]]\n",
      "Array after inserting column 2 on axis 1\n",
      "[[ 1  1  2  3]\n",
      " [ 4  2  5  6]\n",
      " [ 7  3  8  9]\n",
      " [10  4 11 12]\n",
      " [13  5 14 15]\n",
      " [16  6 17 18]\n",
      " [19  7 20 21]\n",
      " [22  8 23 24]]\n"
     ]
    }
   ],
   "source": [
    "print(\"Array after deleting column 2 on axis 1\")\n",
    "d1 = np.delete(i , 1, axis = 1) \n",
    "print (d1)\n",
    "\n",
    "arr = np.array([[1,2,3,4,5,6,7,8]])\n",
    "\n",
    "print(\"Array after inserting column 2 on axis 1\")\n",
    "d2 = np.insert(i , 1, arr, axis = 1) \n",
    "print (d2)"
   ]
  },
  {
   "cell_type": "markdown",
   "metadata": {},
   "source": [
    "**[14] Create a boolean array with all values True.**"
   ]
  },
  {
   "cell_type": "code",
   "execution_count": 24,
   "metadata": {},
   "outputs": [
    {
     "data": {
      "text/plain": [
       "array([ True,  True,  True,  True,  True])"
      ]
     },
     "execution_count": 24,
     "metadata": {},
     "output_type": "execute_result"
    }
   ],
   "source": [
    "bool_arr=np.ones(5,dtype=bool)\n",
    "bool_arr"
   ]
  },
  {
   "cell_type": "markdown",
   "metadata": {},
   "source": [
    "**[15] Replace items that satisfy a condition with another value in numpy array**"
   ]
  },
  {
   "cell_type": "code",
   "execution_count": 25,
   "metadata": {},
   "outputs": [
    {
     "name": "stdout",
     "output_type": "stream",
     "text": [
      "[[ 1  2  3]\n",
      " [ 4  5  6]\n",
      " [ 7  8  9]\n",
      " [10 11 12]\n",
      " [13 14 15]\n",
      " [16 17 18]\n",
      " [19 20 21]\n",
      " [22 23 24]]\n",
      "After replacing:\n"
     ]
    },
    {
     "data": {
      "text/plain": [
       "array([[ 1,  2,  3],\n",
       "       [ 4,  5,  6],\n",
       "       [ 7,  8,  9],\n",
       "       [10, 11, 12],\n",
       "       [13, 14, 15],\n",
       "       [ 0,  0,  0],\n",
       "       [ 0,  0,  0],\n",
       "       [ 0,  0,  0]])"
      ]
     },
     "execution_count": 25,
     "metadata": {},
     "output_type": "execute_result"
    }
   ],
   "source": [
    "# Call numpy.where(condition,x,y) to replace values that meet condition with x\n",
    "print(i)\n",
    "arr_replace=np.where(i>15,0,i)\n",
    "print(\"After replacing:\")\n",
    "arr_replace"
   ]
  },
  {
   "cell_type": "markdown",
   "metadata": {},
   "source": [
    "**[16] Compute the moving average of a numpy array**"
   ]
  },
  {
   "cell_type": "code",
   "execution_count": 26,
   "metadata": {},
   "outputs": [
    {
     "name": "stdout",
     "output_type": "stream",
     "text": [
      "a: [ 5  3  8 10  2  1  5  1  0  2]\n"
     ]
    },
    {
     "data": {
      "text/plain": [
       "[6.5, 5.75, 5.25, 4.5, 2.25, 1.75, 2.0]"
      ]
     },
     "execution_count": 26,
     "metadata": {},
     "output_type": "execute_result"
    }
   ],
   "source": [
    "# There seems to be no function that simply calculates the moving average on numpy. \n",
    "#But we can easily implement it with np.cumsum\n",
    "# EX: [1,1,1,1] array=[5,3,8,10,2,1] w=4\n",
    "# =(1*5+1*3+1*8+1*10)/w  =6.5\n",
    "# =(1*3+1*8+1*10+1*2)/w  =5.75 and so on.\n",
    "def moving_average(a,w):\n",
    "       for m in range(len(a)-(w-1)):\n",
    "        yield sum(np.ones(w)* a[m:m+w])/w\n",
    "\n",
    "a=np.array([5, 3, 8, 10, 2, 1, 5, 1, 0, 2])\n",
    "print(\"a:\",a)\n",
    "list(moving_average(a,4))"
   ]
  },
  {
   "cell_type": "code",
   "execution_count": null,
   "metadata": {},
   "outputs": [],
   "source": []
  }
 ],
 "metadata": {
  "kernelspec": {
   "display_name": "Python 3",
   "language": "python",
   "name": "python3"
  },
  "language_info": {
   "codemirror_mode": {
    "name": "ipython",
    "version": 3
   },
   "file_extension": ".py",
   "mimetype": "text/x-python",
   "name": "python",
   "nbconvert_exporter": "python",
   "pygments_lexer": "ipython3",
   "version": "3.7.6"
  }
 },
 "nbformat": 4,
 "nbformat_minor": 4
}
